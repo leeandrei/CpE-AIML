{
  "nbformat": 4,
  "nbformat_minor": 0,
  "metadata": {
    "colab": {
      "name": "58090_PrelimPS_Alvarez_LakadMatatag.ipynb",
      "provenance": [],
      "include_colab_link": true
    },
    "kernelspec": {
      "name": "python3",
      "display_name": "Python 3"
    },
    "language_info": {
      "name": "python"
    }
  },
  "cells": [
    {
      "cell_type": "markdown",
      "metadata": {
        "id": "view-in-github",
        "colab_type": "text"
      },
      "source": [
        "<a href=\"https://colab.research.google.com/github/leeandrei/CpE-AIML/blob/main/58090_PrelimPS_Alvarez_LakadMatatag.ipynb\" target=\"_parent\"><img src=\"https://colab.research.google.com/assets/colab-badge.svg\" alt=\"Open In Colab\"/></a>"
      ]
    },
    {
      "cell_type": "markdown",
      "metadata": {
        "id": "fte_zsqVdp8R"
      },
      "source": [
        "# Topic02a : Prelim Problem Set I"
      ]
    },
    {
      "cell_type": "markdown",
      "metadata": {
        "id": "JpcY5oJ5eFxA"
      },
      "source": [
        "## Case 1\n",
        "Represent the following representations into its vectorized form using LaTeX.\n",
        "> **Problem 1.a. System of Linear Equations**\n",
        "$$\n",
        "\\left\\{\n",
        "    \\begin{array}\\\\\n",
        "        -y+z=\\frac{1}{32}\\\\ \n",
        "        \\frac{1}{2}x -2y=0 \\\\\n",
        "        -x + \\frac{3}{7}z=\\frac{4}{5}\n",
        "    \\end{array}\n",
        "\\right. $$\n",
        "> **Problem 1.b. Linear Combination**\n",
        "$$  \\cos{(\\theta)}\\hat{i} + \\sin{(\\theta)}\\hat{j} - \\csc{(2\\theta)}\\hat{k}$$\n",
        "> **Problem 1.c. Scenario**\n",
        ">\n",
        ">A conference has 200 student attendees, 45 professionals, and has 15 members of the panel. There is a team of 40 people on the organizing committee. Represent the *percent* composition of each *attendee* type of the conference in matrix form.\n",
        "\n",
        "Express your answers in LaTeX in the answer area.\n"
      ]
    },
    {
      "cell_type": "markdown",
      "metadata": {
        "id": "8LElDh5TcEty"
      },
      "source": [
        "##Problem 1.a \n",
        "\n",
        "$$\\begin{bmatrix}0&-1&1\\\\\\frac{1}{2}&-2&0\\\\-1&0&\\frac{3}{7}\\end{bmatrix} = \\begin{bmatrix}\\frac{1}{32}\\\\0\\\\\\frac{4}{5}\\end{bmatrix}$$"
      ]
    },
    {
      "cell_type": "markdown",
      "metadata": {
        "id": "bqFOsvxIcXyi"
      },
      "source": [
        "##Problem 1.b\n",
        "\n",
        "$$\\begin{bmatrix}\\cos{(\\theta)}i &+ \\sin{(\\theta)}j & - \\csc{(2\\theta)}k\\end{bmatrix}\n",
        "$$"
      ]
    },
    {
      "cell_type": "markdown",
      "metadata": {
        "id": "-3UQEBA9caHT"
      },
      "source": [
        "##Problem 1.c\n",
        "\n",
        "$$C = \\left[\\begin{matrix}\\frac{2}{3} & \\frac{3}{20} & \\frac{1}{20} & \\frac{2}{15}\\end{matrix}\\;\\middle|\\;\\begin{matrix}1 \\end{matrix}\\right]$$"
      ]
    },
    {
      "cell_type": "markdown",
      "metadata": {
        "id": "Uvb1MGs9QNVt"
      },
      "source": [
        "# Case 2\n",
        "> **Problem 2.a: Vector Magnitude**\n",
        "\n",
        ">The magnitude of a vector is usually computed as:\n",
        "$$||v|| = \\sqrt{a_0^2 + a_1^2 + ... +a_n^2}$$\n",
        "Whereas $v$ is any vector and $a_k$ are its elements wherein $k$ is the size of $v$.\n",
        "Re-formulate $||v||$ as a function of an inner product. Further discuss this concept and provide your user-defined function.\n",
        "\n",
        "> **Problem 2.b: Angle Between Vectors**\n",
        "\n",
        "> Inner products can also be related to the Law of Cosines. The property suggests that:\n",
        "$$u\\cdot v = ||u||\\cdot||v||\\cos(\\theta)$$\n",
        "Whereas $u$ and $v$ are vectors that have the same sizes and $\\theta$ is the angle between $u$ and $v$.\n",
        "\n",
        "> Explain the behavior of the dot product when the two vectors are perpendicular and when they are parallel.\n"
      ]
    },
    {
      "cell_type": "markdown",
      "metadata": {
        "id": "FAqaXUsJqX56"
      },
      "source": [
        "##Problem 2.a\n"
      ]
    },
    {
      "cell_type": "markdown",
      "metadata": {
        "id": "HpNiCBX50Y1s"
      },
      "source": [
        "##### The length of a vector determines the magnitude of the vector. In order to determine the magnitude of a vector, we must first determine the length of the vector. Vector quantities include quantities such as velocity, displacement, force, momentum, and other similar concepts."
      ]
    },
    {
      "cell_type": "code",
      "metadata": {
        "colab": {
          "base_uri": "https://localhost:8080/",
          "height": 0
        },
        "id": "FYLHLySkqaNa",
        "outputId": "9e057f4a-42a3-4ad9-f0ae-54fdc9a6236c"
      },
      "source": [
        "import numpy as np\n",
        "\n",
        "def vector_magnitude(x):\n",
        "  return np.sqrt(sum(i**2 for i in x))\n",
        "\n",
        "a = np.array([10, 20, 30, 40, 50])\n",
        "b = vector_magnitude(a)\n",
        "\n",
        "print(a, b, sep = '\\n')"
      ],
      "execution_count": 2,
      "outputs": [
        {
          "output_type": "stream",
          "name": "stdout",
          "text": [
            "[10 20 30 40 50]\n",
            "74.16198487095663\n"
          ]
        }
      ]
    },
    {
      "cell_type": "markdown",
      "metadata": {
        "id": "Yp7cCqk2vkHb"
      },
      "source": [
        "##Problem 2.b"
      ]
    },
    {
      "cell_type": "markdown",
      "metadata": {
        "id": "Stg6KcnSQOt2"
      },
      "source": [
        "##### When the dot product of two vectors equals zero, two vectors are perpendicular. A dot product is a scalar number that changes in value when the angle between two vectors shifts from one to the other. The angle between the vectors has an effect on the dot product because the amount of a vector's total force that is devoted to a specific direction increases or decreases depending on whether the whole vector is directed in that direction or away from it."
      ]
    },
    {
      "cell_type": "markdown",
      "metadata": {
        "id": "_cH8JpkBj1xS"
      },
      "source": [
        "# Case 3\n",
        "For the final cases analysis we will be looking at series of equations building up a single feed-forward computation of a logistic regression. The case will not require you to learn fully what is logistic regression. \n",
        "\n",
        "$$X = \\begin{bmatrix} \n",
        "— (x^{(1)})^T— \\\\ \n",
        "— (x^{(2)})^T— \\\\\n",
        "\\vdots \\\\\n",
        "— (x^{(m)})^T— \\\\\n",
        "\\end{bmatrix} \\text{, } \n",
        "Y = \\begin{bmatrix} \n",
        "y^{(1)} \\\\ \n",
        "y^{(2)} \\\\\n",
        "\\vdots \\\\\n",
        "y^{(m)} \\\\\n",
        "\\end{bmatrix} \\text{, and } \n",
        "\\theta = \\begin{bmatrix} \n",
        "\\theta^{(1)} \\\\ \n",
        "\\theta^{(2)} \\\\\n",
        "\\vdots \\\\\n",
        "\\theta^{(m)} \\\\\n",
        "\\end{bmatrix} $$\n",
        "The dataset $X$ has $m$ entries with $n$ features while $Y$ is the vector containing the groud truths of a the entries of $X$, and $\\theta$ are the parameters or weights of the vectors. We first compute the vector product of the dataset and the parameters as:\n",
        "$$ z = x^{(i)}\\theta^{(i)} = X\\cdot \\theta\\\\_{\\text{Eq. 3.1}}$$\n",
        "We then solve for the hypothesis of the logistic regression alogrithm as:\n",
        "\n",
        "$$ h_\\theta(x) = g(z)\\\\_{\\text{Eq. 3.2}}$$\n",
        "\n",
        "Where $g$ is an acitvation function that maps the values of the hypothesis vector between a range of 0 and 1. We computed the activation as a sigmoid function:\n",
        "$$g(z) = \\frac{1}{1+e^{-z}}\\\\_{\\text{Eq. 3.3}}$$\n",
        "Finally we compute the loss of the logistic regression algorithm using $J$. Wheras $J(\\theta)$ is a function that computes the logistic loss of the hypothesis with respect to the ground truths $y$. it is then computed as:\n",
        "$$J(\\theta) = \\frac{1}{m} \\sum^m_{i=0}=[-y^{(i)}\\log({h_{\\theta}(x^{(i)})})-(1-y^{(i)})\\log(1-h_{\\theta}(x^{(i)}))]\\\\_{\\text{Eq. 3.4}}$$"
      ]
    },
    {
      "cell_type": "markdown",
      "metadata": {
        "id": "MQ8jJV9-qyFy"
      },
      "source": [
        "> **Problem 3.a: Matrix Equivalences**\n",
        "\n",
        "> In Eq. 1, $z$ can also be solved as $X \\cdot \\theta$ which is the vectorized form of $x^{(i)}\\theta^{(i)}$. However, it can also be expressed as $\\theta^T\\cdot X$. Prove the equality of $X \\cdot \\theta$ with $\\theta^T\\cdot X$ in this case.\n",
        "\n",
        "> **Problem 3.b: Matrix Shapes**\n",
        "\n",
        "> Determine the shape of $h_\\theta$ if $X$ has a shape of $(300,5)$.\n",
        "\n",
        "> **Problem 3.c: Vectorization**\n",
        "\n",
        "> Express $J(\\theta)$ into its vectorized form.\n",
        "\n",
        "> **Problem 4.c: Computational Programming (Also Laboratory 2)**\n",
        "\n",
        "> Encode Equations 3.1 to 3.4 as the class `LRegression` wherein:\n",
        "\n",
        "> * `LRegression` should be instantiated with a dataset $X$, a ground truth vector $y$, and a parameter vector $\\theta$. Each parameter should have a data type of `numpy.array`.\n",
        "> * It should further have `methods`reflecting to at least the four (4) aforementioned equations. Each should have a return value.\n"
      ]
    },
    {
      "cell_type": "markdown",
      "metadata": {
        "id": "1udJ2vKTzmSU"
      },
      "source": [
        "##Problem 3.a\n",
        " "
      ]
    },
    {
      "cell_type": "markdown",
      "metadata": {
        "id": "owL6RlChSdbe"
      },
      "source": [
        "In problem 3.a,  prove the equality of $X \\cdot \\theta$ with $\\theta^T\\cdot X$ given that $z$ can also be solved as $X \\cdot \\theta$ which is illustrated in equation 3.1\n",
        "$$X = \\begin{bmatrix} \n",
        "— (x^{(1)})^T— \\ \n",
        "— (x^{(2)})^T— \\\n",
        "\\vdots \\\n",
        "— (x^{(m)})^T— \\\n",
        "\\end{bmatrix} \\text{, } \n",
        "\\theta = \\begin{bmatrix} \n",
        "\\theta^{(1)} \\ \n",
        "\\theta^{(2)} \\\n",
        "\\vdots \\\n",
        "\\theta^{(m)} \\\n",
        "\\end{bmatrix} $$\n",
        "\n",
        "then compute for the vector product of the dataset and the parameters $$ z = X\\cdot \\theta$$ we get:\n",
        "\n",
        "$$z = \\begin{bmatrix} \n",
        "— (x^{(1)})^T\\theta— \\ \n",
        "— (x^{(2)})^T\\theta-\\\n",
        "\\vdots \\\n",
        "— (x^{(m)})^T\\theta— \\\n",
        "\\end{bmatrix}$$\n",
        "\n",
        "\n",
        " then using commutative principle to $ z = X\\cdot \\theta$ which is the vectorized form of $x^{(i)^T} \\theta^{(i)}$ , this is equal to \n",
        "\n",
        "$$ z = \\theta^T\\cdot X$$ \n",
        "\n",
        "$$z = \\begin{bmatrix} \n",
        "—\\theta^T(x^{(1)})— \\ \n",
        "—\\theta^T(x^{(2)})-\\\n",
        "\\vdots \\\n",
        "—\\theta^T(x^{(m)})— \\\n",
        "\\end{bmatrix}$$\n",
        "\n",
        "Hence, \n",
        "$$z = \\begin{bmatrix} \n",
        "— (x^{(1)})^T\\theta— \\ \n",
        "— (x^{(2)})^T\\theta-\\\n",
        "\\vdots \\\n",
        "— (x^{(m)})^T\\theta— \\\n",
        "\\end{bmatrix} \n",
        "= \\begin{bmatrix} \n",
        "—\\theta^T(x^{(1)})— \\ \n",
        "—\\theta^T(x^{(2)})-\\\n",
        "\\vdots \\\n",
        "—\\theta^T(x^{(m)})— \\\n",
        "\\end{bmatrix} $$"
      ]
    },
    {
      "cell_type": "markdown",
      "metadata": {
        "id": "aRoKN7SozofF"
      },
      "source": [
        "##Problem 3.b"
      ]
    },
    {
      "cell_type": "markdown",
      "metadata": {
        "id": "OY6-QFyYWX8x"
      },
      "source": [
        "Consider that the $\\theta$ has a size of $(m,1)$, where m is 300 of X.\n",
        "\n",
        "Therefore the shape of $h_\\theta$ would be $(300,1)$"
      ]
    },
    {
      "cell_type": "markdown",
      "metadata": {
        "id": "-XS6ouPYzrLs"
      },
      "source": [
        "##Problem 3.c"
      ]
    },
    {
      "cell_type": "markdown",
      "metadata": {
        "id": "H7qfeZqoz9yL"
      },
      "source": [
        "$$\n",
        "J(\\theta) = \\frac{1}{m} \\sum^m_{i=0}=[-y^{(i)}\\log(g(z))-(1-y^{(i)})\\log(1-h_{\\theta}(x^{(i)}))]\\\n",
        "$$\n",
        "\n",
        "$$\n",
        "X = \\begin{bmatrix} \n",
        "-y^{(1)}\\log(g(z)) \\\\ \n",
        "-y^{(2)}\\log(g(z)) \\\\\n",
        "\\vdots \\\\\n",
        "-y^{(n)}\\log(g(z)) \\\\\n",
        "\\end{bmatrix} \\text{, }\n",
        "\\theta = \\begin{bmatrix} \n",
        "(1-y^{(1)})\\log(1-h_{\\theta}(x^{(1)})) \\\\ \n",
        "(1-y^{(2)})\\log(1-h_{\\theta}(x^{(2)})) \\\\\n",
        "\\vdots \\\\\n",
        "(1-y^{(n)})\\log(1-h_{\\theta}(x^{(n)})) \\\\\n",
        "\\end{bmatrix}\n",
        "$$"
      ]
    }
  ]
}